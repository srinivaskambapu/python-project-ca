{
 "cells": [
  {
   "cell_type": "markdown",
   "id": "4be81d4b",
   "metadata": {},
   "source": [
    "# Python Project By Vasudha (Roll.No:38) and Srinivas (Roll.No:06)"
   ]
  },
  {
   "cell_type": "markdown",
   "id": "ae376265",
   "metadata": {},
   "source": [
    "run in order"
   ]
  },
  {
   "cell_type": "code",
   "execution_count": 6,
   "id": "9649caf7",
   "metadata": {},
   "outputs": [
    {
     "name": "stdout",
     "output_type": "stream",
     "text": [
      "Collecting pygame\n",
      "  Downloading pygame-2.1.2-cp39-cp39-win_amd64.whl (8.4 MB)\n",
      "Installing collected packages: pygame\n",
      "Successfully installed pygame-2.1.2\n",
      "Note: you may need to restart the kernel to use updated packages.\n"
     ]
    },
    {
     "name": "stderr",
     "output_type": "stream",
     "text": [
      "WARNING: Ignoring invalid distribution -ecorator (c:\\users\\srinivas\\anaconda3\\lib\\site-packages)\n",
      "WARNING: Ignoring invalid distribution -ecorator (c:\\users\\srinivas\\anaconda3\\lib\\site-packages)\n",
      "WARNING: Ignoring invalid distribution -ecorator (c:\\users\\srinivas\\anaconda3\\lib\\site-packages)\n",
      "WARNING: Ignoring invalid distribution -ecorator (c:\\users\\srinivas\\anaconda3\\lib\\site-packages)\n",
      "WARNING: Ignoring invalid distribution -ecorator (c:\\users\\srinivas\\anaconda3\\lib\\site-packages)\n",
      "WARNING: Ignoring invalid distribution -ecorator (c:\\users\\srinivas\\anaconda3\\lib\\site-packages)\n",
      "WARNING: Ignoring invalid distribution -ecorator (c:\\users\\srinivas\\anaconda3\\lib\\site-packages)\n"
     ]
    }
   ],
   "source": [
    "pip install pygame"
   ]
  },
  {
   "cell_type": "code",
   "execution_count": 1,
   "id": "416fcd06",
   "metadata": {
    "collapsed": true
   },
   "outputs": [
    {
     "name": "stdout",
     "output_type": "stream",
     "text": [
      "pygame 2.1.2 (SDL 2.0.18, Python 3.9.12)\n",
      "Hello from the pygame community. https://www.pygame.org/contribute.html\n"
     ]
    },
    {
     "ename": "SystemExit",
     "evalue": "",
     "output_type": "error",
     "traceback": [
      "An exception has occurred, use %tb to see the full traceback.\n",
      "\u001b[1;31mSystemExit\u001b[0m\n"
     ]
    },
    {
     "name": "stderr",
     "output_type": "stream",
     "text": [
      "C:\\Users\\SRINIVAS\\anaconda3\\lib\\site-packages\\IPython\\core\\interactiveshell.py:3377: UserWarning: To exit: use 'exit', 'quit', or Ctrl-D.\n",
      "  warn(\"To exit: use 'exit', 'quit', or Ctrl-D.\", stacklevel=1)\n"
     ]
    }
   ],
   "source": [
    "startingimage = 'images.png'\n",
    "backgroundimage = 'download.png'\n",
    "essay = 'typing speed.txt'\n",
    "icon = 'typeicon.png'\n",
    "\n",
    "import sys\n",
    "import time\n",
    "import random\n",
    "import pygame\n",
    "from pygame.locals import *\n",
    " \n",
    "class Test:\n",
    "   \n",
    "    def __init__(self):\n",
    "        self.color_heading = (255,213,102)\n",
    "        self.color_text = (255,0,0)\n",
    "        self.color_results = (255,70,70)\n",
    "        self.w=750\n",
    "        self.h=500\n",
    "        self.reset=True\n",
    "        self.wpm = 0\n",
    "        self.end = False\n",
    "        self.active = False\n",
    "        self.input_text=''\n",
    "        self.word = ''\n",
    "        self.results = 'Time:0 Accuracy:0 % WPM:0 '\n",
    "        self.start_time = 0\n",
    "        self.overall_time = 0\n",
    "        self.accuracy = '0%'\n",
    "        \n",
    "        \n",
    "       \n",
    "        pygame.init()\n",
    "        self.image_open = pygame.image.load(startingimage)\n",
    "        self.image_open = pygame.transform.scale(self.image_open, (self.w,self.h))\n",
    "\n",
    "\n",
    "        self.bg = pygame.image.load(backgroundimage)\n",
    "        self.bg = pygame.transform.scale(self.bg, (500,1050))\n",
    "\n",
    "        self.screen = pygame.display.set_mode((self.w,self.h))\n",
    "        pygame.display.set_caption('Typing Speed Test')\n",
    "       \n",
    "        \n",
    "    def draw_text(self, screen, message, y_val ,f_size, color):\n",
    "        font = pygame.font.Font(None, f_size)\n",
    "        text = font.render(message, 1,color)\n",
    "        text_rect = text.get_rect(center=(self.w/2, y_val))\n",
    "        screen.blit(text, text_rect)\n",
    "        pygame.display.update()\n",
    "        \n",
    "    def get_challenge(self):\n",
    "        return random.choice(open(essay).read().split('\\n'))\n",
    "\n",
    "    def results_show(self, screen):\n",
    "        if(not self.end):\n",
    "            self.overall_time = time.time() - self.start_time                \n",
    "            count = 0\n",
    "            for i,c in enumerate(self.word):\n",
    "                try:\n",
    "                    if self.input_text[i] == c:\n",
    "                        count = count + 1\n",
    "                except:\n",
    "                    pass\n",
    "            self.accuracy = (count*100)/len(self.word)\n",
    "            self.wpm = (len(self.input_text)*60)/(5*self.overall_time)\n",
    "            self.end = True\n",
    "            print(self.overall_time)\n",
    "                \n",
    "            self.results = 'Time:'+str(round(self.overall_time)) +\" secs   Accuracy:\"+ str(round(self.accuracy)) + \"%\" + '   WPM: ' + str(round(self.wpm))\n",
    "\n",
    "            self.time_img = pygame.image.load(icon)\n",
    "            self.time_img = pygame.transform.scale(self.time_img, (150,150))\n",
    "            screen.blit(self.time_img, (self.w/2-75,self.h-140))\n",
    "            self.draw_text(screen,\"Reset\", self.h - 70, 26, (255,0,0))\n",
    "            \n",
    "            print(self.results)\n",
    "            pygame.display.update()\n",
    "\n",
    "    def run(self):\n",
    "        self.reset_game()\n",
    "    \n",
    "        self.running=True\n",
    "        \n",
    "        while(self.running):\n",
    "            clock = pygame.time.Clock()\n",
    "            self.screen.fill((0,0,0), (50,250,650,50))\n",
    "            pygame.draw.rect(self.screen,self.color_heading, (50,250,650,50), 2)\n",
    "            self.draw_text(self.screen, self.input_text, 274, 26,(250,250,250))\n",
    "            pygame.display.update()\n",
    "            for event in pygame.event.get():\n",
    "                if event.type == QUIT:\n",
    "                    self.running = False\n",
    "                    sys.exit()\n",
    "                elif event.type == pygame.MOUSEBUTTONUP:\n",
    "                    x,y = pygame.mouse.get_pos()\n",
    "                    \n",
    "                    \n",
    "                    if(x>=50 and x<=650 and y>=250 and y<=300):\n",
    "                        self.active = True\n",
    "                        self.input_text = ''\n",
    "                        self.start_time = time.time() \n",
    "                    \n",
    "                    if(x>=310 and x<=510 and y>=390 and self.end):\n",
    "                        self.reset_game()\n",
    "                        x,y = pygame.mouse.get_pos()\n",
    "         \n",
    "                        \n",
    "                elif event.type == pygame.KEYDOWN:\n",
    "                    if self.active and not self.end:\n",
    "                        if event.key == pygame.K_RETURN:\n",
    "                            print(self.input_text)\n",
    "                            self.results_show(self.screen)\n",
    "                            print(self.results)\n",
    "                            self.draw_text(self.screen, self.results,350, 28, self.color_results)  \n",
    "                            self.end = True\n",
    "                        \n",
    "                        elif event.key == pygame.K_BACKSPACE:\n",
    "                            self.input_text = self.input_text[:-1]\n",
    "                        else:\n",
    "                            try:\n",
    "                                self.input_text += event.unicode\n",
    "                            except:\n",
    "                                pass\n",
    "            \n",
    "            pygame.display.update()\n",
    "        clock.tick(60)\n",
    "\n",
    "    def reset_game(self):\n",
    "        self.screen.blit(self.image_open, (0,0))\n",
    "\n",
    "        pygame.display.update()\n",
    "        time.sleep(1)\n",
    "        \n",
    "        self.reset=False\n",
    "        self.end = False\n",
    "\n",
    "        self.input_text=''\n",
    "        self.word = ''\n",
    "        self.start_time = 0\n",
    "        self.overall_time = 0\n",
    "        self.wpm = 0\n",
    " \n",
    "        self.word = self.get_challenge()\n",
    "        if (not self.word): self.reset_game()\n",
    "                   \n",
    "        self.screen.fill((0,0,0))\n",
    "        self.screen.blit(self.bg,(0,0))\n",
    "        message = \"Typing Speed Test\"\n",
    "        self.draw_text(self.screen, message,80, 80,self.color_heading)  \n",
    "        \n",
    "        pygame.draw.rect(self.screen,(255,192,25), (50,250,650,50), 2)\n",
    "\n",
    "        self.draw_text(self.screen, self.word,200, 28,self.color_text)\n",
    "        \n",
    "        pygame.display.update()\n",
    "\n",
    "if __name__=='__main__':\n",
    "    Test().run()"
   ]
  },
  {
   "cell_type": "code",
   "execution_count": null,
   "id": "0b38c1a2",
   "metadata": {},
   "outputs": [],
   "source": []
  }
 ],
 "metadata": {
  "kernelspec": {
   "display_name": "Python 3 (ipykernel)",
   "language": "python",
   "name": "python3"
  },
  "language_info": {
   "codemirror_mode": {
    "name": "ipython",
    "version": 3
   },
   "file_extension": ".py",
   "mimetype": "text/x-python",
   "name": "python",
   "nbconvert_exporter": "python",
   "pygments_lexer": "ipython3",
   "version": "3.9.12"
  }
 },
 "nbformat": 4,
 "nbformat_minor": 5
}
